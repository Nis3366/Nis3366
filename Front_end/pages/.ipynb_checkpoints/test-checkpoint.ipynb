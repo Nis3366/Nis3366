{
 "cells": [
  {
   "cell_type": "code",
   "execution_count": null,
   "id": "initial_id",
   "metadata": {
    "collapsed": true
   },
   "outputs": [],
   "source": [
    ""
   ]
  },
  {
   "metadata": {},
   "cell_type": "code",
   "outputs": [],
   "execution_count": null,
   "source": [
    "from pyecharts import options as opts\n",
    "from pyecharts.charts import Map\n",
    "\n",
    "# 示例数据\n",
    "data_for_map = [\n",
    "    ('广东', 13), ('江苏', 13), ('北京', 11), ('浙江', 10), ('山东', 10), ('河南', 10),\n",
    "    ('上海', 10), ('福建', 6), ('山西', 5), ('湖北', 5), ('四川', 4), ('重庆', 4),\n",
    "    ('海南', 4), ('江西', 3), ('陕西', 3), ('台湾', 3), ('辽宁', 3), ('黑龙江', 3),\n",
    "    ('河北', 3), ('湖南', 3), ('甘肃', 2), ('吉林', 2), ('贵州', 2), ('广西', 2),\n",
    "    ('宁夏', 2), ('云南', 2), ('安徽', 1), ('天津', 1), ('香港', 1), ('新疆', 1)\n",
    "]\n",
    "\n",
    "# 绘制地图\n",
    "map_chart = (\n",
    "    Map()\n",
    "    .add(\n",
    "        series_name=\"数据密度\",\n",
    "        data_pair=data_for_map,\n",
    "        maptype=\"china\",\n",
    "        is_roam=True,\n",
    "    )\n",
    "    .set_global_opts(\n",
    "        title_opts=opts.TitleOpts(title=\"中国各省数据密度\"),\n",
    "        visualmap_opts=opts.VisualMapOpts(\n",
    "            min_=min(count for _, count in data_for_map),\n",
    "            max_=max(count for _, count in data_for_map),\n",
    "            is_piecewise=False,\n",
    "            range_color=[\"#f0f9e8\", \"#08589e\"],  # 颜色从浅到深\n",
    "        ),\n",
    "    )\n",
    ")\n",
    "\n",
    "# 在 Jupyter Notebook 中显示地图\n",
    "map_chart.render_notebook()"
   ],
   "id": "3e7a747924702189"
  }
 ],
 "metadata": {
  "kernelspec": {
   "display_name": "Python 3",
   "language": "python",
   "name": "python3"
  },
  "language_info": {
   "codemirror_mode": {
    "name": "ipython",
    "version": 2
   },
   "file_extension": ".py",
   "mimetype": "text/x-python",
   "name": "python",
   "nbconvert_exporter": "python",
   "pygments_lexer": "ipython2",
   "version": "2.7.6"
  }
 },
 "nbformat": 4,
 "nbformat_minor": 5
}
